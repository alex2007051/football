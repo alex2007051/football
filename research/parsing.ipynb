{
 "cells": [
  {
   "cell_type": "code",
   "execution_count": 5,
   "id": "4331a2ff",
   "metadata": {},
   "outputs": [],
   "source": [
    "import requests\n",
    "from bs4 import BeautifulSoup"
   ]
  },
  {
   "cell_type": "code",
   "execution_count": 3,
   "id": "c534ab27",
   "metadata": {},
   "outputs": [],
   "source": [
    "resp = requests.get('https://www.kinopoisk.ru/lists/movies/top250/').content"
   ]
  },
  {
   "cell_type": "code",
   "execution_count": 4,
   "id": "19ff02c0",
   "metadata": {},
   "outputs": [],
   "source": [
    "with open('resp.html', 'wb') as f:\n",
    "    f.write(resp)"
   ]
  },
  {
   "cell_type": "code",
   "execution_count": 6,
   "id": "4b57997e",
   "metadata": {},
   "outputs": [],
   "source": [
    "soup = BeautifulSoup(resp)"
   ]
  },
  {
   "cell_type": "code",
   "execution_count": 9,
   "id": "6095d649",
   "metadata": {},
   "outputs": [],
   "source": [
    "main_section = soup.find('main')"
   ]
  },
  {
   "cell_type": "code",
   "execution_count": 15,
   "id": "4499fa4b",
   "metadata": {},
   "outputs": [],
   "source": [
    "films = main_section.find_all('div')[5:]"
   ]
  },
  {
   "cell_type": "code",
   "execution_count": 21,
   "id": "7663226f",
   "metadata": {},
   "outputs": [
    {
     "data": {
      "text/plain": [
       "<img alt=\"Зеленая миля\" class=\"styles_image__gRXvn styles_mediumSizeType__fPzdD image styles_root__DZigd\" data-tid=\"d813cf42\" src=\"//avatars.mds.yandex.net/get-kinopoisk-image/1599028/4057c4b8-8208-4a04-b169-26b0661453e3/68x102\" srcset=\"//avatars.mds.yandex.net/get-kinopoisk-image/1599028/4057c4b8-8208-4a04-b169-26b0661453e3/68x102 1x, //avatars.mds.yandex.net/get-kinopoisk-image/1599028/4057c4b8-8208-4a04-b169-26b0661453e3/136x204 2x\"/>"
      ]
     },
     "execution_count": 21,
     "metadata": {},
     "output_type": "execute_result"
    }
   ],
   "source": [
    "films[1].find('div').find('a').find('img')"
   ]
  },
  {
   "cell_type": "code",
   "execution_count": 26,
   "id": "c72c7245",
   "metadata": {},
   "outputs": [],
   "source": [
    "names = []\n",
    "for film in films:\n",
    "    try:\n",
    "        names.append(film.find('div').find('a').find('img')['alt'])\n",
    "    except:\n",
    "        pass"
   ]
  },
  {
   "cell_type": "code",
   "execution_count": 29,
   "id": "47b68567",
   "metadata": {},
   "outputs": [
    {
     "data": {
      "text/plain": [
       "['Зеленая миля',\n",
       " 'США',\n",
       " 'США',\n",
       " 'Список Шиндлера',\n",
       " 'США',\n",
       " 'США',\n",
       " 'Побег из Шоушенка',\n",
       " 'США',\n",
       " 'США',\n",
       " 'Форрест Гамп',\n",
       " 'США',\n",
       " 'США',\n",
       " 'Властелин колец: Возвращение короля',\n",
       " 'Новая Зеландия',\n",
       " 'Новая Зеландия',\n",
       " 'Властелин колец: Братство Кольца',\n",
       " 'Новая Зеландия',\n",
       " 'Новая Зеландия',\n",
       " 'Тайна Коко',\n",
       " 'США',\n",
       " 'США',\n",
       " 'Властелин колец: Две крепости',\n",
       " 'Новая Зеландия',\n",
       " 'Новая Зеландия',\n",
       " 'Назад в будущее',\n",
       " 'США',\n",
       " 'США',\n",
       " 'Интерстеллар',\n",
       " 'США',\n",
       " 'США',\n",
       " 'США',\n",
       " 'США',\n",
       " '1+1',\n",
       " 'Франция',\n",
       " 'Франция',\n",
       " 'Иван Васильевич меняет профессию',\n",
       " 'СССР',\n",
       " 'СССР',\n",
       " 'Король Лев',\n",
       " 'США',\n",
       " 'США',\n",
       " 'Темный рыцарь',\n",
       " 'США',\n",
       " 'США',\n",
       " 'Унесённые призраками',\n",
       " 'Япония',\n",
       " 'Япония',\n",
       " 'Бойцовский клуб',\n",
       " 'США',\n",
       " 'США',\n",
       " 'Гладиатор',\n",
       " 'США',\n",
       " 'США',\n",
       " 'ВАЛЛ·И',\n",
       " 'США',\n",
       " 'США',\n",
       " 'Приключения Шерлока Холмса и доктора Ватсона: Собака Баскервилей',\n",
       " 'СССР',\n",
       " 'СССР',\n",
       " 'Начало',\n",
       " 'США',\n",
       " 'США',\n",
       " 'Шрэк',\n",
       " 'США',\n",
       " 'США',\n",
       " 'Джентльмены удачи',\n",
       " 'СССР',\n",
       " 'СССР',\n",
       " 'Москва слезам не верит',\n",
       " 'СССР',\n",
       " 'СССР',\n",
       " 'Пираты Карибского моря: Проклятие Черной жемчужины',\n",
       " 'США',\n",
       " 'США',\n",
       " 'Достучаться до небес',\n",
       " 'Германия',\n",
       " 'Германия',\n",
       " 'Остров сокровищ',\n",
       " 'СССР',\n",
       " 'СССР',\n",
       " 'Остров проклятых',\n",
       " 'США',\n",
       " 'США',\n",
       " 'Поймай меня, если сможешь',\n",
       " 'США',\n",
       " 'США',\n",
       " 'Большой куш',\n",
       " 'Великобритания',\n",
       " 'Великобритания',\n",
       " '...А зори здесь тихие',\n",
       " 'СССР',\n",
       " 'СССР',\n",
       " 'В бой идут одни «старики»',\n",
       " 'СССР',\n",
       " 'СССР',\n",
       " 'Они сражались за Родину',\n",
       " 'СССР',\n",
       " 'СССР',\n",
       " 'По соображениям совести',\n",
       " 'Австралия',\n",
       " 'Австралия',\n",
       " 'Карты, деньги, два ствола',\n",
       " 'Великобритания',\n",
       " 'Великобритания',\n",
       " 'Гарри Поттер и философский камень',\n",
       " 'Великобритания',\n",
       " 'Великобритания',\n",
       " 'Прислуга',\n",
       " 'США',\n",
       " 'США',\n",
       " 'Клаус',\n",
       " 'Испания',\n",
       " 'Испания',\n",
       " 'Титаник',\n",
       " 'США',\n",
       " 'США',\n",
       " 'Брат',\n",
       " 'Россия',\n",
       " 'Россия',\n",
       " 'Джентльмены',\n",
       " 'Великобритания',\n",
       " 'Великобритания',\n",
       " 'Гарри Поттер и узник Азкабана',\n",
       " 'Великобритания',\n",
       " 'Великобритания',\n",
       " 'Ходячий замок',\n",
       " 'Япония',\n",
       " 'Япония',\n",
       " 'Джанго освобожденный',\n",
       " 'США',\n",
       " 'США',\n",
       " 'Жизнь прекрасна',\n",
       " 'Италия',\n",
       " 'Италия',\n",
       " 'Леон',\n",
       " 'Франция',\n",
       " 'Франция',\n",
       " 'Крестный отец',\n",
       " 'США',\n",
       " 'США',\n",
       " 'Операция «Ы» и другие приключения Шурика',\n",
       " 'СССР',\n",
       " 'СССР',\n",
       " 'Назад в будущее 2',\n",
       " 'США',\n",
       " 'США',\n",
       " 'Брат 2',\n",
       " 'Россия',\n",
       " 'Россия']"
      ]
     },
     "execution_count": 29,
     "metadata": {},
     "output_type": "execute_result"
    }
   ],
   "source": [
    "names"
   ]
  },
  {
   "cell_type": "markdown",
   "id": "6d840f6c",
   "metadata": {},
   "source": [
    "# API"
   ]
  },
  {
   "cell_type": "code",
   "execution_count": 30,
   "id": "700eab86",
   "metadata": {},
   "outputs": [],
   "source": [
    "url = 'https://api.kinopoisk.dev/movie'\n",
    "token = 'ZQQ8GMN-TN54SGK-NB3MKEC-ZKB8V06'"
   ]
  },
  {
   "cell_type": "code",
   "execution_count": 35,
   "id": "462927d2",
   "metadata": {},
   "outputs": [],
   "source": [
    "resp = requests.get(url, params={\n",
    "    'token': token,\n",
    "    'search': 'Бэтмэн',\n",
    "    'field': 'name',\n",
    "    'isStrict': 'false'\n",
    "})"
   ]
  },
  {
   "cell_type": "code",
   "execution_count": 37,
   "id": "c0da1838",
   "metadata": {},
   "outputs": [
    {
     "data": {
      "text/plain": [
       "b'{\"message\":\"You made more than 200 requests per day. The limits will be updated at 00: 00. To get more limits and a personal token, write to telegram @mdwit\",\"ruMessage\":\"\\xd0\\x92\\xd1\\x8b \\xd1\\x81\\xd0\\xb4\\xd0\\xb5\\xd0\\xbb\\xd0\\xb0\\xd0\\xbb\\xd0\\xb8 \\xd0\\xb1\\xd0\\xbe\\xd0\\xbb\\xd0\\xb5\\xd0\\xb5 200 \\xd0\\xb7\\xd0\\xb0\\xd0\\xbf\\xd1\\x80\\xd0\\xbe\\xd1\\x81\\xd0\\xbe\\xd0\\xb2 \\xd0\\xb7\\xd0\\xb0 \\xd1\\x81\\xd1\\x83\\xd1\\x82\\xd0\\xba\\xd0\\xb8. \\xd0\\x9b\\xd0\\xb8\\xd0\\xbc\\xd0\\xb8\\xd1\\x82\\xd1\\x8b \\xd0\\xb1\\xd1\\x83\\xd0\\xb4\\xd1\\x83\\xd1\\x82 \\xd0\\xbe\\xd0\\xb1\\xd0\\xbd\\xd0\\xbe\\xd0\\xb2\\xd0\\xbb\\xd0\\xb5\\xd0\\xbd\\xd1\\x8b \\xd0\\xb2 00: 00. \\xd0\\xa7\\xd1\\x82\\xd0\\xbe\\xd0\\xb1\\xd1\\x8b \\xd0\\xbf\\xd0\\xbe\\xd0\\xbb\\xd1\\x83\\xd1\\x87\\xd0\\xb8\\xd1\\x82\\xd1\\x8c \\xd0\\xb1\\xd0\\xbe\\xd0\\xbb\\xd1\\x8c\\xd1\\x88\\xd0\\xb5 \\xd0\\xbb\\xd0\\xb8\\xd0\\xbc\\xd0\\xb8\\xd1\\x82\\xd0\\xbe\\xd0\\xb2 \\xd0\\xb8 \\xd0\\xbb\\xd0\\xb8\\xd1\\x87\\xd0\\xbd\\xd1\\x8b\\xd0\\xb9 \\xd1\\x82\\xd0\\xbe\\xd0\\xba\\xd0\\xb5\\xd0\\xbd, \\xd0\\xbd\\xd0\\xb0\\xd0\\xbf\\xd0\\xb8\\xd1\\x88\\xd0\\xb8\\xd1\\x82\\xd0\\xb5 \\xd0\\xb2 telegram @mdwit\"}'"
      ]
     },
     "execution_count": 37,
     "metadata": {},
     "output_type": "execute_result"
    }
   ],
   "source": [
    "resp.content"
   ]
  },
  {
   "cell_type": "code",
   "execution_count": null,
   "id": "2b49fbc6",
   "metadata": {},
   "outputs": [],
   "source": []
  }
 ],
 "metadata": {
  "kernelspec": {
   "display_name": "Python 3 (ipykernel)",
   "language": "python",
   "name": "python3"
  },
  "language_info": {
   "codemirror_mode": {
    "name": "ipython",
    "version": 3
   },
   "file_extension": ".py",
   "mimetype": "text/x-python",
   "name": "python",
   "nbconvert_exporter": "python",
   "pygments_lexer": "ipython3",
   "version": "3.9.13"
  }
 },
 "nbformat": 4,
 "nbformat_minor": 5
}
